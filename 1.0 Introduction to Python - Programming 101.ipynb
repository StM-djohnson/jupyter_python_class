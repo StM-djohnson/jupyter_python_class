{
 "cells": [
  {
   "cell_type": "markdown",
   "metadata": {},
   "source": [
    "## Introduction to Python\n",
    "### Getting Started\n",
    "\n",
    "Python is a great *interpreted* programming language to start programming in. *Interpreted* means the programs do not need to be compiled, but instead run through a Python interpreter running on your system. Python is very easy to learn, but due to it's extensibility is also a very powerful language to use.\n",
    "\n",
    "#### Using Jupyter\n",
    "\n",
    "We will be running Python in Jupyter Notebooks - these have become very popular with data scientists as a way to mix text and programming in a single document. Again, because Python is interpreted, we can write Python code in the notebook and have it run on the server, and show results right in the notebook! Let's take a look at our first Python program.\n",
    "\n",
    "#### Your Hello World program\n",
    "\n",
    "It is standard when learning any new program to have your first task be outputting \"Hello World\". While simple, this kind of example shows you how to make the language show you some form of input. We will extend the example further on."
   ]
  },
  {
   "cell_type": "code",
   "execution_count": 3,
   "metadata": {
    "code_folding": []
   },
   "outputs": [
    {
     "name": "stdout",
     "output_type": "stream",
     "text": [
      "Hello World\n"
     ]
    }
   ],
   "source": [
    "# To run this code, press Shift + Enter when the cursor is in the code cell\n",
    "\n",
    "print(\"Hello World\")"
   ]
  },
  {
   "cell_type": "markdown",
   "metadata": {
    "deletable": false,
    "editable": false
   },
   "source": [
    "### Extending Hello World\n",
    "\n",
    "This program ```print(\"Hello World\")``` does quite a bit for a simple line of code - we are introduced to the ```print()``` command, which sends whatever is inside the parentheses to the 'system standard output' - in our case a webpage, but it could be an LCD scroll, a log file, a terminal line, etc. ```print()``` is a command - it contains a directive ('print'), and acts on it's **argument**, which in our case is ```\"Hello World\"```\n",
    "\n",
    "#### Data Types\n",
    "\n",
    "Notice the words ```Hello World``` were contained within double quotes - this marks the value as a **String**, which in programming is a 'string' of characters that are meant to be used *as they are* - nothing is done to a simple string. There are plenty of other data types, and each programming language can have it's own data types. For example, Python has an Integer type, and we can use it very simply:\n"
   ]
  },
  {
   "cell_type": "code",
   "execution_count": 4,
   "metadata": {
    "code_folding": []
   },
   "outputs": [
    {
     "name": "stdout",
     "output_type": "stream",
     "text": [
      "Hello World\n",
      "5\n"
     ]
    }
   ],
   "source": [
    "# To run this code, press Shift + Enter when the cursor is in the code cell\n",
    "\n",
    "print(\"Hello World\")\n",
    "print(2 + 3)\n",
    "\n",
    "# Try adding 154 + 182 in your own line of code. Press Shift + Enter to get it to run"
   ]
  },
  {
   "cell_type": "markdown",
   "metadata": {
    "deletable": false,
    "editable": false
   },
   "source": [
    "#### Variables\n",
    "\n",
    "One big part of programming is using **variables**, which are 'placeholders' for values. The best way to understand variables is to use them - below are some examples of variables being used."
   ]
  },
  {
   "cell_type": "code",
   "execution_count": 5,
   "metadata": {
    "code_folding": []
   },
   "outputs": [
    {
     "name": "stdout",
     "output_type": "stream",
     "text": [
      "HelloWorld\n",
      "47.34\n"
     ]
    },
    {
     "ename": "TypeError",
     "evalue": "must be str, not int",
     "output_type": "error",
     "traceback": [
      "\u001b[0;31m---------------------------------------------------------------------------\u001b[0m",
      "\u001b[0;31mTypeError\u001b[0m                                 Traceback (most recent call last)",
      "\u001b[0;32m<ipython-input-5-78a34e8c61de>\u001b[0m in \u001b[0;36m<module>\u001b[0;34m()\u001b[0m\n\u001b[1;32m     13\u001b[0m \u001b[0;31m# What happens if you try mixing data types, and add x + a ? Try writing a 'print()' line that will do that.\u001b[0m\u001b[0;34m\u001b[0m\u001b[0;34m\u001b[0m\u001b[0m\n\u001b[1;32m     14\u001b[0m \u001b[0;34m\u001b[0m\u001b[0m\n\u001b[0;32m---> 15\u001b[0;31m \u001b[0mprint\u001b[0m\u001b[0;34m(\u001b[0m\u001b[0mx\u001b[0m \u001b[0;34m+\u001b[0m \u001b[0ma\u001b[0m\u001b[0;34m)\u001b[0m\u001b[0;34m\u001b[0m\u001b[0m\n\u001b[0m",
      "\u001b[0;31mTypeError\u001b[0m: must be str, not int"
     ]
    }
   ],
   "source": [
    "# To run this code, press Shift + Enter when the cursor is in the code cell\n",
    "\n",
    "x = \"Hello\"\n",
    "y = \"World\"\n",
    "print(x + y)\n",
    "\n",
    "# What happens with this line of code? Can you correct it and re-run the code?\n",
    "\n",
    "a = 45\n",
    "b = 2.34\n",
    "print(a + b)\n",
    "\n",
    "# What happens if you try mixing data types, and add x + a ? Try writing a 'print()' line that will do that.\n",
    "\n",
    "print(x + a)"
   ]
  },
  {
   "cell_type": "markdown",
   "metadata": {
    "deletable": false,
    "editable": false
   },
   "source": [
    "#### Errors in Code\n",
    "\n",
    "If you tried combining data types in the last example, adding a **String** to an **Integer**, the Python interpreter throws and error\n",
    "> ```Python\n",
    "> TypeError                                 Traceback (most recent call last)\n",
    "> <ipython-input-11-e51cbbe83d67> in <module>()\n",
    ">      13 # What happens if you try mixing data types, and adding x + a ? Try writing a print line that will do that.\n",
    ">      14 \n",
    "> ---> 15 print(x + a)\n",
    ">\n",
    "> TypeError: must be str, not int\n",
    ">```\n",
    "\n",
    "Notice this throws an error in your code - it's real important for debugging to read through this! Python tries to identify your mistake and show what you did wrong. For complex programming this is not as straightforward, but in our example we can pretty easily see what we did - we tried to combine two different data types.\n",
    "\n",
    "Python provides many built-in functions for changing data types - let's fix our error in the code below (we will restate the variables, although in a Jupyter Notebook we don't technically need to do this) \n",
    "\n",
    "We will reassign the a vaule to the **string type** of a with the ```str()``` command."
   ]
  },
  {
   "cell_type": "code",
   "execution_count": 1,
   "metadata": {
    "code_folding": [],
    "deletable": false,
    "editable": false
   },
   "outputs": [
    {
     "name": "stdout",
     "output_type": "stream",
     "text": [
      "HelloWorld\n",
      "47.34\n",
      "Hello45\n"
     ]
    }
   ],
   "source": [
    "# To run this code, press Shift + Enter when the cursor is in the code cell\n",
    "\n",
    "x = \"Hello\"\n",
    "y = \"World\"\n",
    "print(x + y)\n",
    "\n",
    "# What happens with this line of code? Can you correct it and re-run the code?\n",
    "\n",
    "a = 45\n",
    "b = 2.34\n",
    "print(a + b)\n",
    "\n",
    "# What happens if you try mixing data types, and adding x + a ? Try writing a print line that will do that.\n",
    "a = str(a)\n",
    "print(x + a)"
   ]
  },
  {
   "cell_type": "code",
   "execution_count": null,
   "metadata": {},
   "outputs": [],
   "source": []
  }
 ],
 "metadata": {
  "kernelspec": {
   "display_name": "Python 3",
   "language": "python",
   "name": "python3"
  },
  "language_info": {
   "codemirror_mode": {
    "name": "ipython",
    "version": 3
   },
   "file_extension": ".py",
   "mimetype": "text/x-python",
   "name": "python",
   "nbconvert_exporter": "python",
   "pygments_lexer": "ipython3",
   "version": "3.6.5"
  },
  "latex_envs": {
   "LaTeX_envs_menu_present": true,
   "autoclose": false,
   "autocomplete": false,
   "bibliofile": "biblio.bib",
   "cite_by": "apalike",
   "current_citInitial": 1,
   "eqLabelWithNumbers": true,
   "eqNumInitial": 1,
   "hotkeys": {
    "equation": "Ctrl-E",
    "itemize": "Ctrl-I"
   },
   "labels_anchors": false,
   "latex_user_defs": false,
   "report_style_numbering": false,
   "user_envs_cfg": false
  },
  "toc": {
   "base_numbering": 1,
   "nav_menu": {},
   "number_sections": true,
   "sideBar": true,
   "skip_h1_title": false,
   "title_cell": "Table of Contents",
   "title_sidebar": "Contents",
   "toc_cell": false,
   "toc_position": {},
   "toc_section_display": true,
   "toc_window_display": false
  }
 },
 "nbformat": 4,
 "nbformat_minor": 2
}
